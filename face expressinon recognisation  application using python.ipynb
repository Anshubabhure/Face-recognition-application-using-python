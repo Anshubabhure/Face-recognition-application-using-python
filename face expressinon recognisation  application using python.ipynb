{
 "cells": [
  {
   "cell_type": "code",
   "execution_count": 4,
   "id": "55108708",
   "metadata": {},
   "outputs": [
    {
     "name": "stdout",
     "output_type": "stream",
     "text": [
      "Requirement already satisfied: opencv-python in c:\\users\\anshu\\anaconda3\\lib\\site-packages (4.10.0.84)\n",
      "Requirement already satisfied: numpy>=1.21.2 in c:\\users\\anshu\\anaconda3\\lib\\site-packages (from opencv-python) (1.26.4)\n",
      "Note: you may need to restart the kernel to use updated packages.\n"
     ]
    }
   ],
   "source": [
    "pip install opencv-python\n"
   ]
  },
  {
   "cell_type": "code",
   "execution_count": null,
   "id": "7490c77b-a2a8-4c87-835d-36de5db6593b",
   "metadata": {},
   "outputs": [],
   "source": [
    "\n"
   ]
  },
  {
   "cell_type": "code",
   "execution_count": 9,
   "id": "2f9a2c0c-5834-4019-a047-1d8d12007aa1",
   "metadata": {},
   "outputs": [
    {
     "name": "stdout",
     "output_type": "stream",
     "text": [
      "Requirement already satisfied: fer in c:\\users\\anshu\\anaconda3\\lib\\site-packages (22.5.1)\n",
      "Requirement already satisfied: matplotlib in c:\\users\\anshu\\anaconda3\\lib\\site-packages (from fer) (3.9.2)\n",
      "Requirement already satisfied: opencv-contrib-python in c:\\users\\anshu\\anaconda3\\lib\\site-packages (from fer) (4.10.0.84)\n",
      "Requirement already satisfied: keras>=2.0.0 in c:\\users\\anshu\\anaconda3\\lib\\site-packages (from fer) (3.6.0)\n",
      "Requirement already satisfied: pandas in c:\\users\\anshu\\anaconda3\\lib\\site-packages (from fer) (2.2.2)\n",
      "Requirement already satisfied: requests in c:\\users\\anshu\\appdata\\roaming\\python\\python312\\site-packages (from fer) (2.31.0)\n",
      "Requirement already satisfied: facenet-pytorch in c:\\users\\anshu\\anaconda3\\lib\\site-packages (from fer) (2.6.0)\n",
      "Requirement already satisfied: tqdm>=4.62.1 in c:\\users\\anshu\\anaconda3\\lib\\site-packages (from fer) (4.66.5)\n",
      "Requirement already satisfied: moviepy in c:\\users\\anshu\\anaconda3\\lib\\site-packages (from fer) (1.0.3)\n",
      "Requirement already satisfied: ffmpeg==1.4 in c:\\users\\anshu\\anaconda3\\lib\\site-packages (from fer) (1.4)\n",
      "Requirement already satisfied: Pillow in c:\\users\\anshu\\anaconda3\\lib\\site-packages (from fer) (10.2.0)\n",
      "Requirement already satisfied: absl-py in c:\\users\\anshu\\anaconda3\\lib\\site-packages (from keras>=2.0.0->fer) (2.1.0)\n",
      "Requirement already satisfied: numpy in c:\\users\\anshu\\anaconda3\\lib\\site-packages (from keras>=2.0.0->fer) (1.26.4)\n",
      "Requirement already satisfied: rich in c:\\users\\anshu\\anaconda3\\lib\\site-packages (from keras>=2.0.0->fer) (13.7.1)\n",
      "Requirement already satisfied: namex in c:\\users\\anshu\\anaconda3\\lib\\site-packages (from keras>=2.0.0->fer) (0.0.8)\n",
      "Requirement already satisfied: h5py in c:\\users\\anshu\\anaconda3\\lib\\site-packages (from keras>=2.0.0->fer) (3.11.0)\n",
      "Requirement already satisfied: optree in c:\\users\\anshu\\anaconda3\\lib\\site-packages (from keras>=2.0.0->fer) (0.13.1)\n",
      "Requirement already satisfied: ml-dtypes in c:\\users\\anshu\\anaconda3\\lib\\site-packages (from keras>=2.0.0->fer) (0.5.0)\n",
      "Requirement already satisfied: packaging in c:\\users\\anshu\\appdata\\roaming\\python\\python312\\site-packages (from keras>=2.0.0->fer) (23.2)\n",
      "Requirement already satisfied: colorama in c:\\users\\anshu\\appdata\\roaming\\python\\python312\\site-packages (from tqdm>=4.62.1->fer) (0.4.6)\n",
      "Requirement already satisfied: torch<2.3.0,>=2.2.0 in c:\\users\\anshu\\anaconda3\\lib\\site-packages (from facenet-pytorch->fer) (2.2.2)\n",
      "Requirement already satisfied: torchvision<0.18.0,>=0.17.0 in c:\\users\\anshu\\anaconda3\\lib\\site-packages (from facenet-pytorch->fer) (0.17.2)\n",
      "Requirement already satisfied: charset-normalizer<4,>=2 in c:\\users\\anshu\\appdata\\roaming\\python\\python312\\site-packages (from requests->fer) (3.3.0)\n",
      "Requirement already satisfied: idna<4,>=2.5 in c:\\users\\anshu\\appdata\\roaming\\python\\python312\\site-packages (from requests->fer) (3.4)\n",
      "Requirement already satisfied: urllib3<3,>=1.21.1 in c:\\users\\anshu\\appdata\\roaming\\python\\python312\\site-packages (from requests->fer) (2.0.6)\n",
      "Requirement already satisfied: certifi>=2017.4.17 in c:\\users\\anshu\\appdata\\roaming\\python\\python312\\site-packages (from requests->fer) (2023.7.22)\n",
      "Requirement already satisfied: contourpy>=1.0.1 in c:\\users\\anshu\\anaconda3\\lib\\site-packages (from matplotlib->fer) (1.2.0)\n",
      "Requirement already satisfied: cycler>=0.10 in c:\\users\\anshu\\anaconda3\\lib\\site-packages (from matplotlib->fer) (0.11.0)\n",
      "Requirement already satisfied: fonttools>=4.22.0 in c:\\users\\anshu\\anaconda3\\lib\\site-packages (from matplotlib->fer) (4.51.0)\n",
      "Requirement already satisfied: kiwisolver>=1.3.1 in c:\\users\\anshu\\anaconda3\\lib\\site-packages (from matplotlib->fer) (1.4.4)\n",
      "Requirement already satisfied: pyparsing>=2.3.1 in c:\\users\\anshu\\anaconda3\\lib\\site-packages (from matplotlib->fer) (3.1.2)\n",
      "Requirement already satisfied: python-dateutil>=2.7 in c:\\users\\anshu\\appdata\\roaming\\python\\python312\\site-packages (from matplotlib->fer) (2.8.2)\n",
      "Requirement already satisfied: decorator<5.0,>=4.0.2 in c:\\users\\anshu\\anaconda3\\lib\\site-packages (from moviepy->fer) (4.4.2)\n",
      "Requirement already satisfied: proglog<=1.0.0 in c:\\users\\anshu\\anaconda3\\lib\\site-packages (from moviepy->fer) (0.1.10)\n",
      "Requirement already satisfied: imageio<3.0,>=2.5 in c:\\users\\anshu\\anaconda3\\lib\\site-packages (from moviepy->fer) (2.33.1)\n",
      "Requirement already satisfied: imageio-ffmpeg>=0.2.0 in c:\\users\\anshu\\anaconda3\\lib\\site-packages (from moviepy->fer) (0.5.1)\n",
      "Requirement already satisfied: pytz>=2020.1 in c:\\users\\anshu\\anaconda3\\lib\\site-packages (from pandas->fer) (2024.1)\n",
      "Requirement already satisfied: tzdata>=2022.7 in c:\\users\\anshu\\anaconda3\\lib\\site-packages (from pandas->fer) (2023.3)\n",
      "Requirement already satisfied: setuptools in c:\\users\\anshu\\anaconda3\\lib\\site-packages (from imageio-ffmpeg>=0.2.0->moviepy->fer) (75.1.0)\n",
      "Requirement already satisfied: six>=1.5 in c:\\users\\anshu\\appdata\\roaming\\python\\python312\\site-packages (from python-dateutil>=2.7->matplotlib->fer) (1.16.0)\n",
      "Requirement already satisfied: filelock in c:\\users\\anshu\\anaconda3\\lib\\site-packages (from torch<2.3.0,>=2.2.0->facenet-pytorch->fer) (3.13.1)\n",
      "Requirement already satisfied: typing-extensions>=4.8.0 in c:\\users\\anshu\\anaconda3\\lib\\site-packages (from torch<2.3.0,>=2.2.0->facenet-pytorch->fer) (4.11.0)\n",
      "Requirement already satisfied: sympy in c:\\users\\anshu\\anaconda3\\lib\\site-packages (from torch<2.3.0,>=2.2.0->facenet-pytorch->fer) (1.13.2)\n",
      "Requirement already satisfied: networkx in c:\\users\\anshu\\anaconda3\\lib\\site-packages (from torch<2.3.0,>=2.2.0->facenet-pytorch->fer) (3.3)\n",
      "Requirement already satisfied: jinja2 in c:\\users\\anshu\\appdata\\roaming\\python\\python312\\site-packages (from torch<2.3.0,>=2.2.0->facenet-pytorch->fer) (3.1.2)\n",
      "Requirement already satisfied: fsspec in c:\\users\\anshu\\anaconda3\\lib\\site-packages (from torch<2.3.0,>=2.2.0->facenet-pytorch->fer) (2024.6.1)\n",
      "Requirement already satisfied: markdown-it-py>=2.2.0 in c:\\users\\anshu\\anaconda3\\lib\\site-packages (from rich->keras>=2.0.0->fer) (2.2.0)\n",
      "Requirement already satisfied: pygments<3.0.0,>=2.13.0 in c:\\users\\anshu\\appdata\\roaming\\python\\python312\\site-packages (from rich->keras>=2.0.0->fer) (2.16.1)\n",
      "Requirement already satisfied: mdurl~=0.1 in c:\\users\\anshu\\anaconda3\\lib\\site-packages (from markdown-it-py>=2.2.0->rich->keras>=2.0.0->fer) (0.1.0)\n",
      "Requirement already satisfied: MarkupSafe>=2.0 in c:\\users\\anshu\\appdata\\roaming\\python\\python312\\site-packages (from jinja2->torch<2.3.0,>=2.2.0->facenet-pytorch->fer) (2.1.3)\n",
      "Requirement already satisfied: mpmath<1.4,>=1.1.0 in c:\\users\\anshu\\anaconda3\\lib\\site-packages (from sympy->torch<2.3.0,>=2.2.0->facenet-pytorch->fer) (1.3.0)\n",
      "Note: you may need to restart the kernel to use updated packages.\n"
     ]
    }
   ],
   "source": [
    "pip install fer\n"
   ]
  },
  {
   "cell_type": "code",
   "execution_count": 2,
   "id": "3a0e60ee",
   "metadata": {},
   "outputs": [],
   "source": [
    "import cv2\n",
    "import numpy as np\n",
    "from fer import FER\n",
    "import matplotlib.pyplot as plt\n",
    "\n",
    "# Initialize FER detector\n",
    "detector = FER()\n",
    "\n",
    "# Initialize OpenCV face detector\n",
    "face_cascade = cv2.CascadeClassifier(cv2.data.haarcascades + 'haarcascade_frontalface_default.xml')\n",
    "\n",
    "# Capture video from webcam\n",
    "cap = cv2.VideoCapture(0)\n",
    "\n",
    "while True:\n",
    "    # Read frame from webcam\n",
    "    ret, frame = cap.read()\n",
    "    if not ret:\n",
    "        break\n",
    "    \n",
    "    # Convert to grayscale\n",
    "    gray = cv2.cvtColor(frame, cv2.COLOR_BGR2GRAY)\n",
    "    \n",
    "    # Detect faces using OpenCV\n",
    "    faces = face_cascade.detectMultiScale(gray, scaleFactor=1.1, minNeighbors=5, minSize=(30, 30))\n",
    "    \n",
    "    for (x, y, w, h) in faces:\n",
    "        # Draw rectangle around face\n",
    "        cv2.rectangle(frame, (x, y), (x+w, y+h), (255, 0, 0), 2)\n",
    "        \n",
    "        # Extract face region\n",
    "        face_img = frame[y:y+h, x:x+w]\n",
    "        \n",
    "        # Predict emotion using FER\n",
    "        emotions = detector.detect_emotions(face_img)\n",
    "        if emotions:\n",
    "            # Get the most probable emqotion\n",
    "            dominant_emotion, _ = max(emotions[0]['emotions'].items(), key=lambda x: x[1])\n",
    "            \n",
    "            # Display the label\n",
    "            cv2.putText(frame, dominant_emotion, (x, y-10), cv2.FONT_HERSHEY_SIMPLEX, 1, (0, 255, 0), 2)\n",
    "    \n",
    "    # Display the resulting frame\n",
    "    cv2.imshow('Face Expression Recognition', frame)\n",
    "    \n",
    "    # Exit loop on 'q' key press\n",
    "    if cv2.waitKey(1) & 0xFF == ord('q'):\n",
    "        break\n",
    "\n",
    "# Release capture and destroy windows\n",
    "cap.release()\n",
    "cv2.destroyAllWindows()\n"
   ]
  },
  {
   "cell_type": "code",
   "execution_count": null,
   "id": "60f9e77a-0644-42f7-a427-8921e8bced98",
   "metadata": {},
   "outputs": [],
   "source": [
    "pip install tensorflow\n"
   ]
  },
  {
   "cell_type": "code",
   "execution_count": null,
   "id": "7908d26a-c5d8-4a93-a6d0-3019767f4c6e",
   "metadata": {},
   "outputs": [],
   "source": []
  },
  {
   "cell_type": "code",
   "execution_count": null,
   "id": "364712b5",
   "metadata": {},
   "outputs": [],
   "source": []
  },
  {
   "cell_type": "code",
   "execution_count": null,
   "id": "bbfe0e5d",
   "metadata": {},
   "outputs": [],
   "source": []
  },
  {
   "cell_type": "code",
   "execution_count": null,
   "id": "e6faf7f5",
   "metadata": {},
   "outputs": [],
   "source": []
  },
  {
   "cell_type": "code",
   "execution_count": null,
   "id": "9455f3cc-5bb2-41b5-bb8a-e554111f15f6",
   "metadata": {},
   "outputs": [],
   "source": []
  },
  {
   "cell_type": "code",
   "execution_count": null,
   "id": "9787ee56-ff01-4028-b62d-33caa3712629",
   "metadata": {},
   "outputs": [],
   "source": []
  },
  {
   "cell_type": "code",
   "execution_count": null,
   "id": "be0193fe-4b5a-4f95-bf7d-0770a6d29b8b",
   "metadata": {},
   "outputs": [],
   "source": []
  },
  {
   "cell_type": "code",
   "execution_count": null,
   "id": "aca3ea23-edef-4d49-899e-c3506d9082c6",
   "metadata": {},
   "outputs": [],
   "source": []
  },
  {
   "cell_type": "code",
   "execution_count": null,
   "id": "2f6ab32b-b418-43dc-a050-d8bd8e0fb046",
   "metadata": {},
   "outputs": [],
   "source": []
  },
  {
   "cell_type": "code",
   "execution_count": null,
   "id": "03ac671f-1f8c-4043-adf5-7143abcac981",
   "metadata": {},
   "outputs": [],
   "source": []
  },
  {
   "cell_type": "code",
   "execution_count": null,
   "id": "3b010445-a027-4fcf-85a7-c6b685b0375a",
   "metadata": {},
   "outputs": [],
   "source": []
  }
 ],
 "metadata": {
  "kernelspec": {
   "display_name": "Python 3 (ipykernel)",
   "language": "python",
   "name": "python3"
  },
  "language_info": {
   "codemirror_mode": {
    "name": "ipython",
    "version": 3
   },
   "file_extension": ".py",
   "mimetype": "text/x-python",
   "name": "python",
   "nbconvert_exporter": "python",
   "pygments_lexer": "ipython3",
   "version": "3.12.7"
  }
 },
 "nbformat": 4,
 "nbformat_minor": 5
}
